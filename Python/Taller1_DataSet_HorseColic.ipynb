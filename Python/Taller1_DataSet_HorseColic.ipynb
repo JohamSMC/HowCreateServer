{
  "nbformat": 4,
  "nbformat_minor": 0,
  "metadata": {
    "colab": {
      "name": "Taller1-DataSet-HorseColic.ipynb",
      "provenance": [],
      "collapsed_sections": [],
      "mount_file_id": "1NnwgdIihj0AEygXrtnMb7VJ7nNQUKsB0",
      "authorship_tag": "ABX9TyPK3vlIFTZqcUUYeEcKAbvI"
    },
    "kernelspec": {
      "name": "python3",
      "display_name": "Python 3"
    }
  },
  "cells": [
    {
      "cell_type": "code",
      "metadata": {
        "id": "hgkB4JeA-LvX",
        "colab_type": "code",
        "colab": {}
      },
      "source": [
        "# Importarcion librerias\n",
        "import numpy as np\n",
        "import pandas as pd\n",
        "import seaborn as sns\n",
        "import matplotlib.pyplot as plt\n",
        "\n",
        "from sklearn.model_selection import train_test_split\n",
        "from sklearn import metrics\n",
        "\n",
        "from sklearn.naive_bayes import GaussianNB\n",
        "\n",
        "from sklearn.tree import DecisionTreeClassifier"
      ],
      "execution_count": 53,
      "outputs": []
    },
    {
      "cell_type": "code",
      "metadata": {
        "id": "kYHY0AFa_kwq",
        "colab_type": "code",
        "colab": {}
      },
      "source": [
        "# Cargar Datos\n",
        "dataSet = pd.read_csv('/content/drive/My Drive/9° Semestre/Colab Notebooks/DataSets/dataSet-horseColic.txt', sep=' ', na_values=['?'])\n",
        "dataSet"
      ],
      "execution_count": null,
      "outputs": []
    },
    {
      "cell_type": "code",
      "metadata": {
        "id": "DS3dfK6GBafH",
        "colab_type": "code",
        "colab": {}
      },
      "source": [
        "# Información DataSet\n",
        "dataSet.info()"
      ],
      "execution_count": null,
      "outputs": []
    },
    {
      "cell_type": "code",
      "metadata": {
        "id": "W-fJsSFIAsxa",
        "colab_type": "code",
        "colab": {}
      },
      "source": [
        "# Eliminación de atributos\n",
        "dataSet = dataSet.drop(['surgery'],axis=1)\n",
        "dataSet = dataSet.drop(['Hospital_Number'],axis=1)\n",
        "dataSet = dataSet.drop(['type_of_lesion_1'],axis=1)\n",
        "dataSet = dataSet.drop(['type_of_lesion_2'],axis=1)\n",
        "dataSet = dataSet.drop(['type_of_lesion_3'],axis=1)\n",
        "dataSet = dataSet.drop(['cp_data'],axis=1)\n",
        "dataSet.head()"
      ],
      "execution_count": null,
      "outputs": []
    },
    {
      "cell_type": "code",
      "metadata": {
        "id": "bDMzJsSPA04U",
        "colab_type": "code",
        "colab": {}
      },
      "source": [
        "# Valores de la clase\n",
        "dataSet.outcome.value_counts()"
      ],
      "execution_count": null,
      "outputs": []
    },
    {
      "cell_type": "code",
      "metadata": {
        "id": "EOutfzlEK7CZ",
        "colab_type": "code",
        "colab": {}
      },
      "source": [
        "# Estadisticas descriptivas de dataSet\n",
        "statistics = dataSet.describe()\n",
        "print(statistics)"
      ],
      "execution_count": null,
      "outputs": []
    },
    {
      "cell_type": "code",
      "metadata": {
        "id": "sgJUNuvQJ8H-",
        "colab_type": "code",
        "colab": {}
      },
      "source": [
        "# Limpieza de datos perdidos en el atriburo \"outcome\" por el minimo valor\n",
        "dataSet.outcome = dataSet.outcome.fillna(1.0)\n",
        "\n",
        "# Limpieza de los demas datos por la media\n",
        "for column in dataSet:\n",
        "  missing_data = dataSet.loc[:,column].isna()\n",
        "  dataSet.loc[missing_data,column]= statistics.loc['mean',column]\n",
        "\n",
        "dataSet.head()"
      ],
      "execution_count": null,
      "outputs": []
    },
    {
      "cell_type": "code",
      "metadata": {
        "id": "h5DiMNNXKP5p",
        "colab_type": "code",
        "colab": {}
      },
      "source": [
        "# Separa atributos de la clase(\"outcome\")\n",
        "\n",
        "# Cambio tipo de variablde de outcome de int a string\n",
        "dataSet.outcome = dataSet.outcome.astype(str)\n",
        "\n",
        "# Cambia todo los \"outcome\" de valor 3.0 a 2.0 ya que:\n",
        "# 1 = Vivo\n",
        "# 2 = Muerto\n",
        "# 3 = Eeutanasia\n",
        "dataSet.outcome = dataSet.outcome.replace({'3.0':2.0})"
      ],
      "execution_count": 24,
      "outputs": []
    },
    {
      "cell_type": "code",
      "metadata": {
        "id": "A16wk0NA4WqQ",
        "colab_type": "code",
        "colab": {}
      },
      "source": [
        "X = dataSet.drop(['outcome'],axis=1)\n",
        "y = dataSet['outcome']"
      ],
      "execution_count": 88,
      "outputs": []
    },
    {
      "cell_type": "markdown",
      "metadata": {
        "id": "g_oMc6xPCxr0",
        "colab_type": "text"
      },
      "source": [
        "# **Splitting Data and SMOTE**"
      ]
    },
    {
      "cell_type": "code",
      "metadata": {
        "id": "JhbLh4h2BvnM",
        "colab_type": "code",
        "colab": {}
      },
      "source": [
        "X_train, X_test, y_train, y_test = train_test_split(X,y,test_size = 0.3, random_state = 12345)\n",
        "\n",
        "# Smote\n",
        "from imblearn.over_sampling import SMOTE \n",
        "sm = SMOTE(random_state = 12345) \n",
        "#X_train, y_train= sm.fit_sample(X_train, y_train) "
      ],
      "execution_count": 89,
      "outputs": []
    },
    {
      "cell_type": "markdown",
      "metadata": {
        "id": "WuNevBs0-CcH",
        "colab_type": "text"
      },
      "source": [
        "# **Árbol de decisión**"
      ]
    },
    {
      "cell_type": "code",
      "metadata": {
        "id": "O0jgNy2s-MQu",
        "colab_type": "code",
        "colab": {}
      },
      "source": [
        "clf = DecisionTreeClassifier()\n",
        "# Entrenar Decision Tree Classifer\n",
        "clf = clf.fit(X_train,y_train)\n",
        "\n",
        "# Predecir la respuesta para el conjunto de datos de prueba\n",
        "y_pred = clf.predict(X_test)"
      ],
      "execution_count": 90,
      "outputs": []
    },
    {
      "cell_type": "code",
      "metadata": {
        "id": "oU3rduGp-mpw",
        "colab_type": "code",
        "colab": {
          "base_uri": "https://localhost:8080/",
          "height": 187
        },
        "outputId": "7bda188e-0bba-4bed-a391-1b76d73807cc"
      },
      "source": [
        "# Resultados\n",
        "\n",
        "#print(\"Numbero de observaciones mal etiquetadas del total de %d observaciones : %d\" %(X_test.shape[0], (y_test != y_pred).sum()))\n",
        "print(\"Numero de datos en test:\",X_test.shape[0])\n",
        "print(\"Numero de aciertos:\",metrics.accuracy_score(y_test,y_pred,normalize=False))\n",
        "print(\"Numero de desaciertos:\",(y_test != y_pred).sum())\n",
        "print(\"Exactitud(Accuracy):\",metrics.accuracy_score(y_test,y_pred))\n",
        "\n",
        "# Matriz de Confución\n",
        "print(\"\\n\\t---Matriz de Confución Árbol de decisión---\")\n",
        "# print(metrics.confusion_matrix(y_test,y_pred))\n",
        "VN,FP,FN,VP = metrics.confusion_matrix(y_test,y_pred).ravel()\n",
        "print(\"VN \\t FP\")\n",
        "print(VN,\" \\t \",FP)\n",
        "print(\"FN \\t VP\")\n",
        "print(FN,\" \\t \",VP)"
      ],
      "execution_count": 91,
      "outputs": [
        {
          "output_type": "stream",
          "text": [
            "Numero de datos en test: 90\n",
            "Numero de aciertos: 61\n",
            "Numero de desaciertos: 29\n",
            "Exactitud(Accuracy): 0.6777777777777778\n",
            "\n",
            "\t---Matriz de Confución Árbol de decisión---\n",
            "VN \t FP\n",
            "37  \t  16\n",
            "FN \t VP\n",
            "13  \t  24\n"
          ],
          "name": "stdout"
        }
      ]
    },
    {
      "cell_type": "markdown",
      "metadata": {
        "id": "dlQfyHt76L-g",
        "colab_type": "text"
      },
      "source": [
        "# **Gaussian Naive Bayes**"
      ]
    },
    {
      "cell_type": "code",
      "metadata": {
        "id": "YgDcKECa6SGW",
        "colab_type": "code",
        "colab": {}
      },
      "source": [
        "gnb = GaussianNB()\n",
        "y_pred = gnb.fit(X_train, y_train).predict(X_test)"
      ],
      "execution_count": 92,
      "outputs": []
    },
    {
      "cell_type": "code",
      "metadata": {
        "id": "RwyhwMOa6bsT",
        "colab_type": "code",
        "colab": {
          "base_uri": "https://localhost:8080/",
          "height": 187
        },
        "outputId": "1d9895a8-48dc-4639-f1e6-94710e1a4abf"
      },
      "source": [
        "# Resultados\n",
        "\n",
        "#print(\"Numbero de observaciones mal etiquetadas del total de %d observaciones : %d\" %(X_test.shape[0], (y_test != y_pred).sum()))\n",
        "print(\"Numero de datos en test:\",X_test.shape[0])\n",
        "print(\"Numero de aciertos:\",metrics.accuracy_score(y_test,y_pred,normalize=False))\n",
        "print(\"Numero de desaciertos:\",(y_test != y_pred).sum())\n",
        "print(\"Exactitud(Accuracy):\",metrics.accuracy_score(y_test,y_pred))\n",
        "\n",
        "# Matriz de Confución\n",
        "print(\"\\n\\t---Matriz de Confución Naive Bayes---\")\n",
        "# print(metrics.confusion_matrix(y_test,y_pred))\n",
        "VN,FP,FN,VP = metrics.confusion_matrix(y_test,y_pred).ravel()\n",
        "print(\"VN \\t FP\")\n",
        "print(VN,\" \\t \",FP)\n",
        "print(\"FN \\t VP\")\n",
        "print(FN,\" \\t \",VP)"
      ],
      "execution_count": 93,
      "outputs": [
        {
          "output_type": "stream",
          "text": [
            "Numero de datos en test: 90\n",
            "Numero de aciertos: 63\n",
            "Numero de desaciertos: 27\n",
            "Exactitud(Accuracy): 0.7\n",
            "\n",
            "\t---Matriz de Confución Naive Bayes---\n",
            "VN \t FP\n",
            "37  \t  16\n",
            "FN \t VP\n",
            "11  \t  26\n"
          ],
          "name": "stdout"
        }
      ]
    },
    {
      "cell_type": "markdown",
      "metadata": {
        "id": "fQMMllXAIg-X",
        "colab_type": "text"
      },
      "source": [
        "# ***OneR***"
      ]
    },
    {
      "cell_type": "code",
      "metadata": {
        "id": "K5Ozg22DIo0W",
        "colab_type": "code",
        "colab": {}
      },
      "source": [
        "n_samples, n_features = X.shape\n",
        "attribute_means = X.mean(axis=0)\n",
        "assert attribute_means.shape == (n_features,)\n",
        "X_d = np.array(X >= attribute_means, dtype='int')"
      ],
      "execution_count": 94,
      "outputs": []
    },
    {
      "cell_type": "code",
      "metadata": {
        "id": "h56AJxHmI4aA",
        "colab_type": "code",
        "colab": {}
      },
      "source": [
        "from collections import defaultdict\n",
        "from operator import itemgetter\n",
        "\n",
        "def train(X, y_true, feature):  \n",
        "    # Check that variable is a valid number\n",
        "    n_samples, n_features = X.shape\n",
        "    assert 0 <= feature < n_features\n",
        "    # Get all of the unique values that this variable has\n",
        "    values = set(X[:,feature])\n",
        "    # Stores the predictors array that is returned\n",
        "    predictors = dict()\n",
        "    errors = []\n",
        "    for current_value in values:\n",
        "        most_frequent_class, error = train_feature_value(X, y_true, feature, current_value)\n",
        "        predictors[current_value] = most_frequent_class\n",
        "        errors.append(error)\n",
        "    # Compute the total error of using this feature to classify on\n",
        "    total_error = sum(errors)\n",
        "    return predictors, total_error\n",
        "# Compute what our predictors say each sample is based on its value\n",
        "#y_predicted = np.array([predictors[sample[feature]] for sample in X])\n",
        "def train_feature_value(X, y_true, feature, value):\n",
        "    # The four input parameters are data set, category array, selected feature index value and feature value\n",
        "    # Create a simple dictionary to count how frequency they give certain predictions\n",
        "    class_counts = defaultdict(int)\n",
        "    # Iterate through each sample and count the frequency of each class/value pair\n",
        "    for sample, y in zip(X, y_true):\n",
        "        if sample[feature] == value:\n",
        "            class_counts[y] += 1\n",
        "    # Now get the best one by sorting (highest first) and choosing the first item\n",
        "    sorted_class_counts = sorted(class_counts.items(), key=itemgetter(1), reverse=True)\n",
        "    most_frequent_class = sorted_class_counts[0][0]\n",
        "    # The error is the number of samples that do not classify as the most frequent class\n",
        "    # *and* have the feature value.\n",
        "    n_samples = X.shape[1]\n",
        "    error = sum([class_count for class_value, class_count in class_counts.items()\n",
        "                 if class_value != most_frequent_class])\n",
        "    return most_frequent_class, error"
      ],
      "execution_count": 95,
      "outputs": []
    },
    {
      "cell_type": "code",
      "metadata": {
        "id": "Db5GJMukJVpI",
        "colab_type": "code",
        "colab": {}
      },
      "source": [
        "# Now, we split into a training and test set\n",
        "X_train, X_test, y_train, y_test = train_test_split(X_d, y, test_size = 0.3, random_state = 12345)\n",
        "# Smote\n",
        "#X_train, y_train= sm.fit_sample(X_train, y_train) "
      ],
      "execution_count": 96,
      "outputs": []
    },
    {
      "cell_type": "code",
      "metadata": {
        "id": "l-JbJ1uHI-aS",
        "colab_type": "code",
        "colab": {}
      },
      "source": [
        "# Compute all of the predictors\n",
        "all_predictors = {variable: train(X_train, y_train, variable) for variable in range(X_train.shape[1])}\n",
        "errors = {variable: error for variable, (mapping, error) in all_predictors.items()}\n",
        "# Now choose the best and save that as \"model\"\n",
        "# Sort by error\n",
        "best_variable, best_error = sorted(errors.items(), key=itemgetter(1))[0]\n",
        "#print(\"The best model is based on variable {0} and has error {1:.2f}\".format(best_variable, best_error))\n",
        "\n",
        "# Choose the bset model\n",
        "model = {'variable': best_variable,\n",
        "         'predictor': all_predictors[best_variable][0]}\n",
        "\n",
        "def predict(X_test, model):\n",
        "    variable = model['variable']\n",
        "    predictor = model['predictor']\n",
        "    y_pred = np.array([predictor[int(sample[variable])] for sample in X_test])\n",
        "    return y_pred\n",
        "\n",
        "y_pred = predict(X_test, model)"
      ],
      "execution_count": 97,
      "outputs": []
    },
    {
      "cell_type": "code",
      "metadata": {
        "id": "h_lgzsLwKfTs",
        "colab_type": "code",
        "colab": {
          "base_uri": "https://localhost:8080/",
          "height": 204
        },
        "outputId": "0248a13c-4634-489c-98ca-ac590b9b5943"
      },
      "source": [
        "# Resultados\n",
        "\n",
        "#print(\"Numbero de observaciones mal etiquetadas del total de %d observaciones : %d\" %(X_test.shape[0], (y_test != y_pred).sum()))\n",
        "print(\"Numero de datos en test:\",X_test.shape[0])\n",
        "print(\"Numero de aciertos:\",metrics.accuracy_score(y_test,y_pred,normalize=False))\n",
        "print(\"Numero de desaciertos:\",(y_test != y_pred).sum())\n",
        "print(\"Exactitud(Accuracy):\",metrics.accuracy_score(y_test,y_pred))\n",
        "print(\"\\n\\t---Matriz de Confución OneR---\")\n",
        "# print(metrics.confusion_matrix(y_test,y_pred))\n",
        "VN,FP,FN,VP = metrics.confusion_matrix(y_test,y_pred).ravel()\n",
        "print(\"\\nVP \\t FN\")\n",
        "print(VP,\" \\t \",FN)\n",
        "print(\"FP \\t VN\")\n",
        "print(FP,\" \\t \",VN)"
      ],
      "execution_count": 98,
      "outputs": [
        {
          "output_type": "stream",
          "text": [
            "Numero de datos en test: 90\n",
            "Numero de aciertos: 50\n",
            "Numero de desaciertos: 40\n",
            "Exactitud(Accuracy): 0.5555555555555556\n",
            "\n",
            "\t---Matriz de Confución OneR---\n",
            "\n",
            "VP \t FN\n",
            "19  \t  18\n",
            "FP \t VN\n",
            "22  \t  31\n"
          ],
          "name": "stdout"
        }
      ]
    }
  ]
}